{
 "cells": [
  {
   "cell_type": "markdown",
   "metadata": {},
   "source": [
    "# Clean data prior to ChatML formatting"
   ]
  },
  {
   "cell_type": "code",
   "execution_count": null,
   "metadata": {},
   "outputs": [],
   "source": [
    "import pandas as pd\n",
    "import json\n",
    "pd.options.mode.chained_assignment = None\n",
    "\n",
    "dfArtistApplicationContent = pd.read_csv('Government_Program_Application_Data.csv')\n",
    "dfPanelNotesScores = pd.read_csv('Grant_Program_Panelist_Notes_Scores.csv')"
   ]
  },
  {
   "cell_type": "code",
   "execution_count": null,
   "metadata": {},
   "outputs": [],
   "source": [
    "# fields from applications as they align with panelist review categories\n",
    "# Combine fields\n",
    "\n",
    "dfArtistApplicationContent['ArtisticProduct_Application'] = dfArtistApplicationContent['What will you create'] + dfArtistApplicationContent['Project Goals']\n",
    "dfArtistApplicationContent['ArtisticAccess_Application'] = dfArtistApplicationContent['Public Sharing Component'] + dfArtistApplicationContent['Target Audience'] + dfArtistApplicationContent['Connection to General Public']\n",
    "dfArtistApplicationContent['ArtisticManagement_Application'] = dfArtistApplicationContent['How will you execute your project'] + dfArtistApplicationContent['Collaborators']\n",
    "\n",
    "moneyFieldsList = ['Request Amount', 'Grant Total Paid']\n",
    "\n",
    "for col in moneyFieldsList:\n",
    "    dfArtistApplicationContent[col] = dfArtistApplicationContent[col].astype(str)\n",
    "    dfArtistApplicationContent[col] = dfArtistApplicationContent[col].str.replace('$', '')\n",
    "    dfArtistApplicationContent[col] = dfArtistApplicationContent[col].str.replace(',', '')\n",
    "    dfArtistApplicationContent[col] = dfArtistApplicationContent[col].astype(float)\n",
    "    dfArtistApplicationContent[col] = dfArtistApplicationContent[col].astype(int)"
   ]
  },
  {
   "cell_type": "code",
   "execution_count": 3,
   "metadata": {},
   "outputs": [],
   "source": [
    "# splitting data for each reviewer\n",
    "\n",
    "projectsToRemove = ['New works. And rebranding ', 'Avocado Head Man Public Art Installation']\n",
    "\n",
    "dfPanelNotesScores = dfPanelNotesScores[~dfPanelNotesScores['Project Name'].isin(projectsToRemove)]\n",
    "\n",
    "dfPanelNotesScores[['ArtisticProductScore_R1', 'ArtisticProductScore_R2', 'ArtisticProductScore_R3']] = dfPanelNotesScores['Quality of the artistic product processor or service 035'].str.split('; ', expand=True).astype(int)\n",
    "dfPanelNotesScores[['ArtisticAccessScore_R1', 'ArtisticAccessScore_R2', 'ArtisticAccessScore_R3']] = dfPanelNotesScores['Access to the Arts 035'].str.split('; ', expand=True).astype(int)\n",
    "dfPanelNotesScores[['ArtisticManagementScore_R1', 'ArtisticManagementScore_R2', 'ArtisticManagementScore_R3']] = dfPanelNotesScores['Management 030'].str.split('; ', expand=True).astype(int)\n",
    "\n",
    "dfPanelNotesScores['productAvgScore'] = dfPanelNotesScores[['ArtisticProductScore_R1', 'ArtisticProductScore_R2', 'ArtisticProductScore_R3']].mean(axis=1).astype(int)\n",
    "dfPanelNotesScores['accessAvgScore'] = dfPanelNotesScores[['ArtisticAccessScore_R1', 'ArtisticAccessScore_R2', 'ArtisticAccessScore_R3']].mean(axis=1).astype(int)\n",
    "dfPanelNotesScores['managementAvgScore'] = dfPanelNotesScores[['ArtisticManagementScore_R1', 'ArtisticManagementScore_R2', 'ArtisticManagementScore_R3']].mean(axis=1).astype(int)\n",
    "\n",
    "dfPanelNotesScores['Panelist_Product_Avg'] = 'Avg_Reviewer_Score: ' + dfPanelNotesScores['productAvgScore'].astype(str) + '; Reviewer_Notes: ' + dfPanelNotesScores['Notes on Artistic Quality']\n",
    "dfPanelNotesScores['Panelist_Access_Avg'] = 'Avg_Reviewer_Score: ' + dfPanelNotesScores['accessAvgScore'].astype(str) + '; Reviewer_Notes: ' + dfPanelNotesScores['Notes on Access to the arts']\n",
    "dfPanelNotesScores['Panelist_Management_Avg'] = 'Avg_Reviewer_Score: ' + dfPanelNotesScores['managementAvgScore'].astype(str) + '; Reviewer_Notes: ' + dfPanelNotesScores['Notes on Management']"
   ]
  },
  {
   "cell_type": "code",
   "execution_count": 4,
   "metadata": {},
   "outputs": [],
   "source": [
    "# Keep relevannt columnns from both dfs, and then merge them together (merge on Project Name, inner).\n",
    "\n",
    "dfArtistApplicationContent = dfArtistApplicationContent[['Project Name', 'Grant Total Paid', 'Request Amount', 'ArtisticProduct_Application' , 'ArtisticAccess_Application', 'ArtisticManagement_Application']]\n",
    "\n",
    "dfPanelNotesScores = dfPanelNotesScores[['Project Name', 'Panelist_Product_Avg', 'Panelist_Access_Avg', 'Panelist_Management_Avg']]\n",
    "\n",
    "df = pd.merge(dfArtistApplicationContent, dfPanelNotesScores, on='Project Name', how='inner')\n",
    "\n",
    "# Fill na with 'nothing' as ChatML doesn't like null values\n",
    "df = df.fillna('nothing')"
   ]
  },
  {
   "cell_type": "markdown",
   "metadata": {},
   "source": [
    "# Format data in ChatML"
   ]
  },
  {
   "cell_type": "code",
   "execution_count": null,
   "metadata": {},
   "outputs": [],
   "source": [
    "# Keep useful columns and assign roles\n",
    "\n",
    "systemTextProduct = \"\"\"You are a grant review panelist. Score the following application on a scale of 0-35. 0 being the lowest and 35 being the highest. Provide a brief explanation of your score based on the following criteria:\n",
    "The work deepens its impact by welcoming people of all abilities and backgrounds.\n",
    "Strong ideas expressed with clarity advance artistic goals.\n",
    "The emotional and sensory impact of the work engages community.\n",
    "The creative work demonstrates integrity and ethical use of material with specific cultural origins and context.\n",
    "A work can disrupt artistic conventions, concepts of beauty, or how the audience engages. Effective disruption is mindful and intentional.\n",
    "\"\"\"\n",
    "\n",
    "systemTextAccess = \"\"\"You are a grant review panelist. Score the following application on a scale of 0-35. 0 being the lowest and 35 being the highest. Provide a brief explanation of your score based on the following criteria:\n",
    "Does the applicant demonstrate knowledge of the target audience?\n",
    "Does the applicant demonstrate effective plans and strategies to reach the target audience?\n",
    "Does the applicant demonstrate plans to reach the general public?\n",
    "\"\"\"\n",
    "\n",
    "systemTextManagement = \"\"\"You are a grant review panelist. Score the following application on a scale of 0-30. 0 being the lowest and 30 being the highest. Provide a brief explanation of your score based on the following criteria:\n",
    "Evaluate the quality of measurable goals and objectives as indicated by applicant.\n",
    "Is the budget appropriate?\n",
    "Does the applicant demonstrate a plan to successfully execute the project?\n",
    "Does the applicant have collaborators who will help assist in the execution of the project (if applicable)?\n",
    "\"\"\"\n",
    "\n",
    "\n",
    "dfChatMLProduct = df[['ArtisticProduct_Application', 'Panelist_Product_Avg']]\n",
    "dfChatMLProduct['systemTextProduct'] = systemTextProduct\n",
    "dfChatMLProduct = dfChatMLProduct.rename(columns={'systemTextProduct': 'system', 'ArtisticProduct_Application': 'user', 'Panelist_Product_Avg': 'assistant'})\n",
    "\n",
    "\n",
    "dfChatMLAccess = df[['ArtisticAccess_Application', 'Panelist_Access_Avg']]\n",
    "dfChatMLAccess['systemTextAccess'] = systemTextAccess\n",
    "dfChatMLAccess = dfChatMLAccess.rename(columns={'systemTextAccess': 'system', 'ArtisticAccess_Application': 'user', 'Panelist_Access_Avg': 'assistant'})\n",
    "\n",
    "dfChatMLManagement = df[['ArtisticManagement_Application', 'Panelist_Management_Avg']]\n",
    "dfChatMLManagement['systemTextManagement'] = systemTextManagement\n",
    "dfChatMLManagement = dfChatMLManagement.rename(columns={'systemTextManagement': 'system', 'ArtisticManagement_Application': 'user', 'Panelist_Management_Avg': 'assistant'})\n",
    "\n",
    "dfChatMLConcat = pd.concat([dfChatMLProduct, dfChatMLAccess, dfChatMLManagement])\n",
    "\n",
    "dfChatMLConcat = dfChatMLConcat[['system', 'user', 'assistant']]\n",
    "\n",
    "# remove line breaks from strings\n",
    "dfChatMLConcat = dfChatMLConcat.replace({'\\n':' '}, regex=True)\n",
    "dfChatMLConcat = dfChatMLConcat.replace({\"\\\"\":\"'\"}, regex=True)\n",
    "dfChatMLConcat = dfChatMLConcat.replace({\",\":\"\"}, regex=True)\n",
    "\n",
    "dfChatMLConcat.to_csv('Grant_App_and_Review_Data_Combined_ChatML.csv', index=False)"
   ]
  },
  {
   "cell_type": "code",
   "execution_count": null,
   "metadata": {},
   "outputs": [],
   "source": [
    "# Format lines for JSONL\n",
    "\n",
    "partialString1 = \"\"\"[{\"role\": \"system\", \"content\": \\\"\"\"\"\n",
    "partialString2 = \"\"\"\"}, {\"role\": \"user\", \"content\": \\\"\"\"\"\n",
    "partialString3 = \"\"\"\"}, {\"role\": \"assistant\", \"content\": \\\"\"\"\"\n",
    "partialString4 = \"\"\"\"}]\"\"\"\n",
    "\n",
    "dfChatMLConcat['conversations'] = partialString1 + dfChatMLConcat['system'].astype(str) + partialString2 + dfChatMLConcat['user'].astype(str) + partialString3 + dfChatMLConcat['assistant'].astype(str) + partialString4\n",
    "\n",
    "# Format as JSON\n",
    "dfChatMLConcat['conversations'] = dfChatMLConcat['conversations'].str.replace(\"\\\\\", \"\", regex=False)\n",
    "\n",
    "dfChatMLConcat = dfChatMLConcat['conversations'].to_list()\n",
    "\n",
    "jsonFormatList = []\n",
    "\n",
    "for record in dfChatMLConcat:\n",
    "    jsonFormatList.append(json.loads(record))\n",
    "\n",
    "wrapped_data = {\"conversations\": jsonFormatList}\n",
    "\n",
    "\n",
    "with open('FineTuningData_JSONFormatted_TopLevel.json', 'w') as outfile:\n",
    "    json.dump(wrapped_data, outfile, indent=4)"
   ]
  },
  {
   "cell_type": "code",
   "execution_count": null,
   "metadata": {},
   "outputs": [],
   "source": [
    "# Define the file path\n",
    "file_path = \"FineTuningData_JSONFormatted_TopLevel.json\"\n",
    "\n",
    "# Open and read the JSON file\n",
    "with open(file_path, \"r\") as f:\n",
    "    data = json.load(f)  # Load the file content into a Python object\n",
    "\n",
    "# Convert the Python object back to a JSON-formatted string using json.dumps()\n",
    "json_string = json.dumps(data, indent=2)  # `indent=2` makes the output pretty-printed"
   ]
  }
 ],
 "metadata": {
  "kernelspec": {
   "display_name": "myenv",
   "language": "python",
   "name": "python3"
  },
  "language_info": {
   "codemirror_mode": {
    "name": "ipython",
    "version": 3
   },
   "file_extension": ".py",
   "mimetype": "text/x-python",
   "name": "python",
   "nbconvert_exporter": "python",
   "pygments_lexer": "ipython3",
   "version": "3.7.9"
  }
 },
 "nbformat": 4,
 "nbformat_minor": 2
}
